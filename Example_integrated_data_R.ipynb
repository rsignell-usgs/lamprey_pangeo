{
 "cells": [
  {
   "cell_type": "markdown",
   "metadata": {},
   "source": [
    "# Jupyter notebook example\n",
    "\n",
    "### R code with Sea Lamprey data\n",
    "\n",
    "USGS Scientists often produce one-off analyses that become part of larger \"stories\". \n",
    "However, the data and code from these oneoff products often cannot be used for other projects unless the users is an expert in the subject field. \n",
    "Interactive products such as Jupyter notebooks could be used to highlight key findings and help others intereste in these products find them and learn how to use them. \n",
    "\n",
    "For this example, we examine eDNA data generated as part of sea lamprey monitoring research. \n",
    "The data come from [ScienceBase](https://www.sciencebase.gov/catalog/item/59b6cc06e4b08b1644ddf8b3), where the original source code was published as well source [code](https://www.sciencebase.gov/catalog/item/5bace929e4b08583a5d10c46).\n",
    "For this demonstration, the source code has been adapted to highlight a key finding using the [Tidyverse](https://www.tidyverse.org/). \n",
    "\n",
    "First, we load the required libraries. "
   ]
  },
  {
   "cell_type": "code",
   "execution_count": 44,
   "metadata": {},
   "outputs": [
    {
     "name": "stderr",
     "output_type": "stream",
     "text": [
      "\n",
      "Attaching package: ‘scales’\n",
      "\n",
      "The following object is masked from ‘package:purrr’:\n",
      "\n",
      "    discard\n",
      "\n",
      "The following object is masked from ‘package:readr’:\n",
      "\n",
      "    col_factor\n",
      "\n"
     ]
    }
   ],
   "source": [
    "library(tidyverse)\n",
    "library(lme4)\n",
    "library(scales)"
   ]
  },
  {
   "cell_type": "markdown",
   "metadata": {},
   "source": [
    "Next, we read in our data from Science Base. \n",
    "We print the data to peak at it."
   ]
  },
  {
   "cell_type": "code",
   "execution_count": 19,
   "metadata": {},
   "outputs": [
    {
     "data": {
      "text/html": [
       "<table>\n",
       "<caption>A tibble: 6 × 4</caption>\n",
       "<thead>\n",
       "\t<tr><th scope=col>Sample</th><th scope=col>Fluor</th><th scope=col>Copies</th><th scope=col>Inhibited</th></tr>\n",
       "\t<tr><th scope=col>&lt;fct&gt;</th><th scope=col>&lt;fct&gt;</th><th scope=col>&lt;dbl&gt;</th><th scope=col>&lt;fct&gt;</th></tr>\n",
       "</thead>\n",
       "<tbody>\n",
       "\t<tr><td>200L-2A</td><td>FAM</td><td>1336000</td><td>NO</td></tr>\n",
       "\t<tr><td>200L-2B</td><td>FAM</td><td>1099000</td><td>NO</td></tr>\n",
       "\t<tr><td>200L-2C</td><td>FAM</td><td>1229000</td><td>NO</td></tr>\n",
       "\t<tr><td>200L-3A</td><td>FAM</td><td>1827000</td><td>NO</td></tr>\n",
       "\t<tr><td>200L-3B</td><td>FAM</td><td>1758000</td><td>NO</td></tr>\n",
       "\t<tr><td>200L-3C</td><td>FAM</td><td>1543000</td><td>NO</td></tr>\n",
       "</tbody>\n",
       "</table>\n"
      ],
      "text/latex": [
       "A tibble: 6 × 4\n",
       "\\begin{tabular}{r|llll}\n",
       " Sample & Fluor & Copies & Inhibited\\\\\n",
       " <fct> & <fct> & <dbl> & <fct>\\\\\n",
       "\\hline\n",
       "\t 200L-2A & FAM & 1336000 & NO\\\\\n",
       "\t 200L-2B & FAM & 1099000 & NO\\\\\n",
       "\t 200L-2C & FAM & 1229000 & NO\\\\\n",
       "\t 200L-3A & FAM & 1827000 & NO\\\\\n",
       "\t 200L-3B & FAM & 1758000 & NO\\\\\n",
       "\t 200L-3C & FAM & 1543000 & NO\\\\\n",
       "\\end{tabular}\n"
      ],
      "text/markdown": [
       "\n",
       "A tibble: 6 × 4\n",
       "\n",
       "| Sample &lt;fct&gt; | Fluor &lt;fct&gt; | Copies &lt;dbl&gt; | Inhibited &lt;fct&gt; |\n",
       "|---|---|---|---|\n",
       "| 200L-2A | FAM | 1336000 | NO |\n",
       "| 200L-2B | FAM | 1099000 | NO |\n",
       "| 200L-2C | FAM | 1229000 | NO |\n",
       "| 200L-3A | FAM | 1827000 | NO |\n",
       "| 200L-3B | FAM | 1758000 | NO |\n",
       "| 200L-3C | FAM | 1543000 | NO |\n",
       "\n"
      ],
      "text/plain": [
       "  Sample  Fluor Copies  Inhibited\n",
       "1 200L-2A FAM   1336000 NO       \n",
       "2 200L-2B FAM   1099000 NO       \n",
       "3 200L-2C FAM   1229000 NO       \n",
       "4 200L-3A FAM   1827000 NO       \n",
       "5 200L-3B FAM   1758000 NO       \n",
       "6 200L-3C FAM   1543000 NO       "
      ]
     },
     "metadata": {},
     "output_type": "display_data"
    },
    {
     "data": {
      "text/html": [
       "<ol class=list-inline>\n",
       "\t<li>352</li>\n",
       "\t<li>4</li>\n",
       "</ol>\n"
      ],
      "text/latex": [
       "\\begin{enumerate*}\n",
       "\\item 352\n",
       "\\item 4\n",
       "\\end{enumerate*}\n"
      ],
      "text/markdown": [
       "1. 352\n",
       "2. 4\n",
       "\n",
       "\n"
      ],
      "text/plain": [
       "[1] 352   4"
      ]
     },
     "metadata": {},
     "output_type": "display_data"
    }
   ],
   "source": [
    "url <- \"https://www.sciencebase.gov/catalog/file/get/59b6cc06e4b08b1644ddf8b3?f=__disk__f7%2F19%2F08%2Ff719084d841c0419e3a7f9a747c156406e32a85b\"\n",
    "dat <- read.csv(url) %>% as_tibble()\n",
    "dat %>% head()\n",
    "dat %>% dim()"
   ]
  },
  {
   "cell_type": "markdown",
   "metadata": {},
   "source": [
    "The data requires some cleanup before we can plot and model it. "
   ]
  },
  {
   "cell_type": "code",
   "execution_count": 27,
   "metadata": {},
   "outputs": [
    {
     "data": {
      "text/html": [
       "<table>\n",
       "<caption>A tibble: 6 × 7</caption>\n",
       "<thead>\n",
       "\t<tr><th scope=col>Sample</th><th scope=col>Fluor</th><th scope=col>Copies</th><th scope=col>Inhibited</th><th scope=col>Stock_level</th><th scope=col>Sample_ID</th><th scope=col>Subsample_ID</th></tr>\n",
       "\t<tr><th scope=col>&lt;fct&gt;</th><th scope=col>&lt;fct&gt;</th><th scope=col>&lt;dbl&gt;</th><th scope=col>&lt;fct&gt;</th><th scope=col>&lt;chr&gt;</th><th scope=col>&lt;chr&gt;</th><th scope=col>&lt;chr&gt;</th></tr>\n",
       "</thead>\n",
       "<tbody>\n",
       "\t<tr><td>200L-2A</td><td>FAM</td><td>1336000</td><td>NO</td><td>200L</td><td>2</td><td>A</td></tr>\n",
       "\t<tr><td>200L-2B</td><td>FAM</td><td>1099000</td><td>NO</td><td>200L</td><td>2</td><td>B</td></tr>\n",
       "\t<tr><td>200L-2C</td><td>FAM</td><td>1229000</td><td>NO</td><td>200L</td><td>2</td><td>C</td></tr>\n",
       "\t<tr><td>200L-3A</td><td>FAM</td><td>1827000</td><td>NO</td><td>200L</td><td>3</td><td>A</td></tr>\n",
       "\t<tr><td>200L-3B</td><td>FAM</td><td>1758000</td><td>NO</td><td>200L</td><td>3</td><td>B</td></tr>\n",
       "\t<tr><td>200L-3C</td><td>FAM</td><td>1543000</td><td>NO</td><td>200L</td><td>3</td><td>C</td></tr>\n",
       "</tbody>\n",
       "</table>\n"
      ],
      "text/latex": [
       "A tibble: 6 × 7\n",
       "\\begin{tabular}{r|lllllll}\n",
       " Sample & Fluor & Copies & Inhibited & Stock\\_level & Sample\\_ID & Subsample\\_ID\\\\\n",
       " <fct> & <fct> & <dbl> & <fct> & <chr> & <chr> & <chr>\\\\\n",
       "\\hline\n",
       "\t 200L-2A & FAM & 1336000 & NO & 200L & 2 & A\\\\\n",
       "\t 200L-2B & FAM & 1099000 & NO & 200L & 2 & B\\\\\n",
       "\t 200L-2C & FAM & 1229000 & NO & 200L & 2 & C\\\\\n",
       "\t 200L-3A & FAM & 1827000 & NO & 200L & 3 & A\\\\\n",
       "\t 200L-3B & FAM & 1758000 & NO & 200L & 3 & B\\\\\n",
       "\t 200L-3C & FAM & 1543000 & NO & 200L & 3 & C\\\\\n",
       "\\end{tabular}\n"
      ],
      "text/markdown": [
       "\n",
       "A tibble: 6 × 7\n",
       "\n",
       "| Sample &lt;fct&gt; | Fluor &lt;fct&gt; | Copies &lt;dbl&gt; | Inhibited &lt;fct&gt; | Stock_level &lt;chr&gt; | Sample_ID &lt;chr&gt; | Subsample_ID &lt;chr&gt; |\n",
       "|---|---|---|---|---|---|---|\n",
       "| 200L-2A | FAM | 1336000 | NO | 200L | 2 | A |\n",
       "| 200L-2B | FAM | 1099000 | NO | 200L | 2 | B |\n",
       "| 200L-2C | FAM | 1229000 | NO | 200L | 2 | C |\n",
       "| 200L-3A | FAM | 1827000 | NO | 200L | 3 | A |\n",
       "| 200L-3B | FAM | 1758000 | NO | 200L | 3 | B |\n",
       "| 200L-3C | FAM | 1543000 | NO | 200L | 3 | C |\n",
       "\n"
      ],
      "text/plain": [
       "  Sample  Fluor Copies  Inhibited Stock_level Sample_ID Subsample_ID\n",
       "1 200L-2A FAM   1336000 NO        200L        2         A           \n",
       "2 200L-2B FAM   1099000 NO        200L        2         B           \n",
       "3 200L-2C FAM   1229000 NO        200L        2         C           \n",
       "4 200L-3A FAM   1827000 NO        200L        3         A           \n",
       "5 200L-3B FAM   1758000 NO        200L        3         B           \n",
       "6 200L-3C FAM   1543000 NO        200L        3         C           "
      ]
     },
     "metadata": {},
     "output_type": "display_data"
    }
   ],
   "source": [
    "dat <-\n",
    "    dat %>%\n",
    "    filter(Fluor == \"FAM\" & grepl(\"L-\", Sample)) %>%\n",
    "    mutate(Stock_level = gsub(\"(\\\\d+L)-(\\\\d[A-Z])\", \"\\\\1\", Sample), \n",
    "           Sample_ID   = gsub(\"(\\\\d+L)-(\\\\d)([A-Z])\", \"\\\\2\", Sample),\n",
    "           Subsample_ID = gsub(\"(\\\\d+L)-(\\\\d)([A-Z])\", \"\\\\3\", Sample))\n",
    "dat %>% head()"
   ]
  },
  {
   "cell_type": "markdown",
   "metadata": {},
   "source": [
    "We then need to aggregate the data by taking the mean of each sample. "
   ]
  },
  {
   "cell_type": "code",
   "execution_count": 37,
   "metadata": {},
   "outputs": [
    {
     "data": {
      "text/html": [
       "<table>\n",
       "<caption>A grouped_df: 12 × 3</caption>\n",
       "<thead>\n",
       "\t<tr><th scope=col>Stock_level</th><th scope=col>Sample_ID</th><th scope=col>Copies</th></tr>\n",
       "\t<tr><th scope=col>&lt;fct&gt;</th><th scope=col>&lt;chr&gt;</th><th scope=col>&lt;dbl&gt;</th></tr>\n",
       "</thead>\n",
       "<tbody>\n",
       "\t<tr><td>0L  </td><td>1</td><td>1.288267e+00</td></tr>\n",
       "\t<tr><td>0L  </td><td>2</td><td>8.593167e-01</td></tr>\n",
       "\t<tr><td>0L  </td><td>3</td><td>2.632833e+00</td></tr>\n",
       "\t<tr><td>2L  </td><td>1</td><td>4.237750e+03</td></tr>\n",
       "\t<tr><td>2L  </td><td>2</td><td>9.374333e+03</td></tr>\n",
       "\t<tr><td>2L  </td><td>3</td><td>2.176500e+03</td></tr>\n",
       "\t<tr><td>20L </td><td>1</td><td>2.037250e+05</td></tr>\n",
       "\t<tr><td>20L </td><td>2</td><td>1.248875e+05</td></tr>\n",
       "\t<tr><td>20L </td><td>3</td><td>7.472750e+04</td></tr>\n",
       "\t<tr><td>200L</td><td>1</td><td>1.591333e+06</td></tr>\n",
       "\t<tr><td>200L</td><td>2</td><td>1.089292e+06</td></tr>\n",
       "\t<tr><td>200L</td><td>3</td><td>1.762417e+06</td></tr>\n",
       "</tbody>\n",
       "</table>\n"
      ],
      "text/latex": [
       "A grouped_df: 12 × 3\n",
       "\\begin{tabular}{r|lll}\n",
       " Stock\\_level & Sample\\_ID & Copies\\\\\n",
       " <fct> & <chr> & <dbl>\\\\\n",
       "\\hline\n",
       "\t 0L   & 1 & 1.288267e+00\\\\\n",
       "\t 0L   & 2 & 8.593167e-01\\\\\n",
       "\t 0L   & 3 & 2.632833e+00\\\\\n",
       "\t 2L   & 1 & 4.237750e+03\\\\\n",
       "\t 2L   & 2 & 9.374333e+03\\\\\n",
       "\t 2L   & 3 & 2.176500e+03\\\\\n",
       "\t 20L  & 1 & 2.037250e+05\\\\\n",
       "\t 20L  & 2 & 1.248875e+05\\\\\n",
       "\t 20L  & 3 & 7.472750e+04\\\\\n",
       "\t 200L & 1 & 1.591333e+06\\\\\n",
       "\t 200L & 2 & 1.089292e+06\\\\\n",
       "\t 200L & 3 & 1.762417e+06\\\\\n",
       "\\end{tabular}\n"
      ],
      "text/markdown": [
       "\n",
       "A grouped_df: 12 × 3\n",
       "\n",
       "| Stock_level &lt;fct&gt; | Sample_ID &lt;chr&gt; | Copies &lt;dbl&gt; |\n",
       "|---|---|---|\n",
       "| 0L   | 1 | 1.288267e+00 |\n",
       "| 0L   | 2 | 8.593167e-01 |\n",
       "| 0L   | 3 | 2.632833e+00 |\n",
       "| 2L   | 1 | 4.237750e+03 |\n",
       "| 2L   | 2 | 9.374333e+03 |\n",
       "| 2L   | 3 | 2.176500e+03 |\n",
       "| 20L  | 1 | 2.037250e+05 |\n",
       "| 20L  | 2 | 1.248875e+05 |\n",
       "| 20L  | 3 | 7.472750e+04 |\n",
       "| 200L | 1 | 1.591333e+06 |\n",
       "| 200L | 2 | 1.089292e+06 |\n",
       "| 200L | 3 | 1.762417e+06 |\n",
       "\n"
      ],
      "text/plain": [
       "   Stock_level Sample_ID Copies      \n",
       "1  0L          1         1.288267e+00\n",
       "2  0L          2         8.593167e-01\n",
       "3  0L          3         2.632833e+00\n",
       "4  2L          1         4.237750e+03\n",
       "5  2L          2         9.374333e+03\n",
       "6  2L          3         2.176500e+03\n",
       "7  20L         1         2.037250e+05\n",
       "8  20L         2         1.248875e+05\n",
       "9  20L         3         7.472750e+04\n",
       "10 200L        1         1.591333e+06\n",
       "11 200L        2         1.089292e+06\n",
       "12 200L        3         1.762417e+06"
      ]
     },
     "metadata": {},
     "output_type": "display_data"
    }
   ],
   "source": [
    "dat_sample <-\n",
    "    dat %>%\n",
    "    mutate(Copies = ifelse(is.na(Copies), 0, Copies),\n",
    "           Stock_level = factor(Stock_level, levels = c(\"0L\", \"2L\", \"20L\", \"200L\"))) %>%\n",
    "    group_by(Stock_level, Sample_ID) %>%\n",
    "    summarize(Copies = mean(Copies)) \n",
    "dat_sample"
   ]
  },
  {
   "cell_type": "markdown",
   "metadata": {},
   "source": [
    "Next, we plot the data using `ggplot()`.\n",
    "This shows how eDNA copy numbers increases based upon stocking."
   ]
  },
  {
   "cell_type": "code",
   "execution_count": 46,
   "metadata": {},
   "outputs": [
    {
     "data": {
      "image/png": "[encoded data removed]",
      "text/plain": [
       "plot without title"
      ]
     },
     "metadata": {},
     "output_type": "display_data"
    }
   ],
   "source": [
    "options(repr.plot.width=6, repr.plot.height=3)\n",
    "ggplot(data = dat_sample, aes(x = Stock_level, y = Copies)) +\n",
    "    geom_boxplot() +\n",
    "    scale_y_log10(label=comma) +\n",
    "    theme_minimal() +\n",
    "    ylab(\"Number of copies\") +\n",
    "    xlab(\"Stocking level of sea lamprey\")"
   ]
  },
  {
   "cell_type": "markdown",
   "metadata": {},
   "source": [
    "We can also use a mixed-effect regression to confirm these findings. "
   ]
  },
  {
   "cell_type": "code",
   "execution_count": 52,
   "metadata": {},
   "outputs": [
    {
     "name": "stderr",
     "output_type": "stream",
     "text": [
      "boundary (singular) fit: see ?isSingular\n"
     ]
    },
    {
     "data": {
      "text/plain": [
       "Linear mixed model fit by REML. t-tests use Satterthwaite's method [\n",
       "lmerModLmerTest]\n",
       "Formula: log10(Copies) ~ Stock_level + (1 | Sample_ID)\n",
       "   Data: dat_sample\n",
       "\n",
       "REML criterion at convergence: 3.9\n",
       "\n",
       "Scaled residuals: \n",
       "     Min       1Q   Median       3Q      Max \n",
       "-1.30976 -0.63085 -0.03185  0.49920  1.38836 \n",
       "\n",
       "Random effects:\n",
       " Groups    Name        Variance Std.Dev.\n",
       " Sample_ID (Intercept) 0.00000  0.000   \n",
       " Residual              0.05525  0.235   \n",
       "Number of obs: 12, groups:  Sample_ID, 3\n",
       "\n",
       "Fixed effects:\n",
       "                Estimate Std. Error     df t value Pr(>|t|)    \n",
       "(Intercept)       0.1549     0.1357 8.0000   1.141    0.287    \n",
       "Stock_level2L     3.4908     0.1919 8.0000  18.189 8.58e-08 ***\n",
       "Stock_level20L    4.9382     0.1919 8.0000  25.731 5.58e-09 ***\n",
       "Stock_level200L   6.0068     0.1919 8.0000  31.299 1.18e-09 ***\n",
       "---\n",
       "Signif. codes:  0 ‘***’ 0.001 ‘**’ 0.01 ‘*’ 0.05 ‘.’ 0.1 ‘ ’ 1\n",
       "\n",
       "Correlation of Fixed Effects:\n",
       "            (Intr) Stc_2L St_20L\n",
       "Stock_lvl2L -0.707              \n",
       "Stck_lvl20L -0.707  0.500       \n",
       "Stck_lv200L -0.707  0.500  0.500\n",
       "convergence code: 0\n",
       "boundary (singular) fit: see ?isSingular\n"
      ]
     },
     "metadata": {},
     "output_type": "display_data"
    }
   ],
   "source": [
    "eDNA_model <- lmer(log10(Copies) ~ Stock_level + (1|Sample_ID), dat_sample)\n",
    "summary(eDNA_model)"
   ]
  },
  {
   "cell_type": "code",
   "execution_count": null,
   "metadata": {},
   "outputs": [],
   "source": []
  }
 ],
 "metadata": {
  "kernelspec": {
   "display_name": "R [conda env:IOOS-R]",
   "language": "R",
   "name": "conda-env-IOOS-R-r"
  },
  "language_info": {
   "codemirror_mode": "r",
   "file_extension": ".r",
   "mimetype": "text/x-r-source",
   "name": "R",
   "pygments_lexer": "r",
   "version": "3.6.1"
  }
 },
 "nbformat": 4,
 "nbformat_minor": 2
}
