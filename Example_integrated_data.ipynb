{
 "cells": [
  {
   "cell_type": "markdown",
   "metadata": {},
   "source": [
    "# Jupyter notebook example"
   ]
  },
  {
   "cell_type": "markdown",
   "metadata": {},
   "source": [
    "USGS Scientists often produce one-off analyses that become part of larger \"stories\". However, the data and code from these oneoff products often cannot be used for other projects unless the users is an expert in the subject field. Interactive products such as Jupyter notebooks could be used to highlight key findings and help others intereste in these products find them and learn how to use them. \n",
    "\n",
    "For this example, we examine eDNA data generated as part of sea lamprey monitoring research. \n",
    "\n",
    "First, we read in our data from Science Base. We print the `head()` of the data to peak at it and print the `shape` to see how many rows and columns we have. "
   ]
  },
  {
   "cell_type": "code",
   "execution_count": 15,
   "metadata": {},
   "outputs": [
    {
     "name": "stdout",
     "output_type": "stream",
     "text": [
      "    Sample Fluor     Copies Inhibited\n",
      "0  200L-2A   FAM  1336000.0        NO\n",
      "1  200L-2B   FAM  1099000.0        NO\n",
      "2  200L-2C   FAM  1229000.0        NO\n",
      "3  200L-3A   FAM  1827000.0        NO\n",
      "4  200L-3B   FAM  1758000.0        NO\n",
      "(352, 4)\n"
     ]
    }
   ],
   "source": [
    "import pandas as pd\n",
    "import numpy as np\n",
    "import io\n",
    "import requests\n",
    "import matplotlib.pyplot as plt\n",
    "import statsmodels.api as sm\n",
    "import statsmodels.formula.api as smf\n",
    "import numpy as np\n",
    "import re\n",
    "\n",
    "url = \"https://www.sciencebase.gov/catalog/file/get/59b6cc06e4b08b1644ddf8b3?f=__disk__f7%2F19%2F08%2Ff719084d841c0419e3a7f9a747c156406e32a85b\"\n",
    "s = requests.get(url).content\n",
    "dat = pd.read_csv(io.StringIO(s.decode('utf-8')))\n",
    "print(dat.head())\n",
    "print(dat.shape)"
   ]
  },
  {
   "cell_type": "markdown",
   "metadata": {},
   "source": [
    "Then, we might filter our data and do other cleanup steps."
   ]
  },
  {
   "cell_type": "code",
   "execution_count": 16,
   "metadata": {},
   "outputs": [
    {
     "name": "stdout",
     "output_type": "stream",
     "text": [
      "    Sample Fluor     Copies Inhibited Stock_level Sample_ID date  \\\n",
      "0  200L-2A   FAM  1336000.0        NO        200L        2A  NaN   \n",
      "1  200L-2B   FAM  1099000.0        NO        200L        2B  NaN   \n",
      "2  200L-2C   FAM  1229000.0        NO        200L        2C  NaN   \n",
      "3  200L-3A   FAM  1827000.0        NO        200L        3A  NaN   \n",
      "4  200L-3B   FAM  1758000.0        NO        200L        3B  NaN   \n",
      "\n",
      "   Copies_log10 Sample_replicate  \n",
      "0      6.125807            200L2  \n",
      "1      6.040998            200L2  \n",
      "2      6.089552            200L2  \n",
      "3      6.261739            200L3  \n",
      "4      6.245019            200L3  \n",
      "(144, 9)\n"
     ]
    }
   ],
   "source": [
    "dat[['Stock_level', 'Sample_ID', 'date']] = dat['Sample'].apply(lambda x: pd.Series(str(x).split('-')))\n",
    "FAM = dat[dat[\"Fluor\"] == \"FAM\"]\n",
    "copies_to_keep = [\"0L\", \"2L\", \"20L\", \"200L\"] \n",
    "FAM = FAM[FAM[\"Stock_level\"].isin(copies_to_keep)]\n",
    "FAM[\"Stock_level\"] = FAM[\"Stock_level\"].astype('category')\n",
    "FAM[\"Stock_level\"] = FAM[\"Stock_level\"].cat.reorder_categories(copies_to_keep, ordered=True)\n",
    "FAM[\"Copies_log10\"] = np.log10(FAM[\"Copies\"] + 1)\n",
    "FAM['Sample_replicate'] = FAM['Sample'].str.replace(\"(\\\\d+L)-(\\\\d)([A-Z])\", \"\\\\1\\\\2\", regex = True)\n",
    "print(FAM.head())\n",
    "print(FAM.shape)"
   ]
  },
  {
   "cell_type": "markdown",
   "metadata": {},
   "source": [
    "Next, we might plot our data and run other analyses.\n",
    "\n",
    "In this case, we first plot our data using a boxplot. "
   ]
  },
  {
   "cell_type": "code",
   "execution_count": 17,
   "metadata": {},
   "outputs": [
    {
     "data": {
      "text/plain": [
       "<matplotlib.axes._subplots.AxesSubplot at 0x7fd2bb44ec18>"
      ]
     },
     "execution_count": 17,
     "metadata": {},
     "output_type": "execute_result"
    },
    {
     "data": {
      "image/png": "[encoded data removed]",
      "text/plain": [
       "<Figure size 432x288 with 1 Axes>"
      ]
     },
     "metadata": {
      "needs_background": "light"
     },
     "output_type": "display_data"
    }
   ],
   "source": [
    "FAM.boxplot(column = \"Copies_log10\", by =\"Stock_level\")"
   ]
  },
  {
   "cell_type": "markdown",
   "metadata": {},
   "source": [
    "In the above example, see how stocking-level increases the amount of eDNA detected in water. \n",
    "\n",
    "Originally, a mixed-effect model was run on this code. However, I cannot figure out how to run this so I ran a linear model instead. \n",
    "This confirms plot shown above. "
   ]
  },
  {
   "cell_type": "code",
   "execution_count": 19,
   "metadata": {},
   "outputs": [
    {
     "name": "stdout",
     "output_type": "stream",
     "text": [
      "                            OLS Regression Results                            \n",
      "==============================================================================\n",
      "Dep. Variable:           Copies_log10   R-squared:                       0.982\n",
      "Model:                            OLS   Adj. R-squared:                  0.981\n",
      "Method:                 Least Squares   F-statistic:                     2089.\n",
      "Date:                Thu, 08 Aug 2019   Prob (F-statistic):          4.68e-102\n",
      "Time:                        19:05:24   Log-Likelihood:                 2.2592\n",
      "No. Observations:                 122   AIC:                             3.482\n",
      "Df Residuals:                     118   BIC:                             14.70\n",
      "Df Model:                           3                                         \n",
      "Covariance Type:            nonrobust                                         \n",
      "=======================================================================================\n",
      "                          coef    std err          t      P>|t|      [0.025      0.975]\n",
      "---------------------------------------------------------------------------------------\n",
      "Intercept               0.6184      0.062      9.916      0.000       0.495       0.742\n",
      "Stock_level[T.2L]       2.9748      0.074     40.078      0.000       2.828       3.122\n",
      "Stock_level[T.20L]      4.4677      0.075     59.940      0.000       4.320       4.615\n",
      "Stock_level[T.200L]     5.5393      0.074     74.629      0.000       5.392       5.686\n",
      "==============================================================================\n",
      "Omnibus:                        1.343   Durbin-Watson:                   1.640\n",
      "Prob(Omnibus):                  0.511   Jarque-Bera (JB):                1.148\n",
      "Skew:                           0.238   Prob(JB):                        0.563\n",
      "Kurtosis:                       3.006   Cond. No.                         6.67\n",
      "==============================================================================\n",
      "\n",
      "Warnings:\n",
      "[1] Standard Errors assume that the covariance matrix of the errors is correctly specified.\n"
     ]
    }
   ],
   "source": [
    "md = smf.ols( \"Copies_log10 ~ Stock_level\", FAM)\n",
    "md = md.fit()\n",
    "print(md.summary())"
   ]
  },
  {
   "cell_type": "markdown",
   "metadata": {},
   "source": [
    "**Note: My origial code and analysis were done in R and included both better figures and more analysis. Think of this notebook as a proof of concent.**"
   ]
  },
  {
   "cell_type": "code",
   "execution_count": null,
   "metadata": {},
   "outputs": [],
   "source": []
  },
  {
   "cell_type": "code",
   "execution_count": null,
   "metadata": {},
   "outputs": [],
   "source": []
  }
 ],
 "metadata": {
  "kernelspec": {
   "display_name": "Python [conda env:notebook] *",
   "language": "python",
   "name": "conda-env-notebook-py"
  },
  "language_info": {
   "codemirror_mode": {
    "name": "ipython",
    "version": 3
   },
   "file_extension": ".py",
   "mimetype": "text/x-python",
   "name": "python",
   "nbconvert_exporter": "python",
   "pygments_lexer": "ipython3",
   "version": "3.6.7"
  }
 },
 "nbformat": 4,
 "nbformat_minor": 2
}
