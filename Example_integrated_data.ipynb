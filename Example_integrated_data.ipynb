{
 "cells": [
  {
   "cell_type": "markdown",
   "metadata": {},
   "source": [
    "# Jupyter notebook example"
   ]
  },
  {
   "cell_type": "markdown",
   "metadata": {},
   "source": [
    "USGS Scientists often produce one-off analyses that become part of larger \"stories\". However, the data and code from these oneoff products often cannot be used for other projects unless the users is an expert in the subject field. Interactive products such as Jupyter notebooks could be used to highlight key findings and help others intereste in these products find them and learn how to use them. \n",
    "\n",
    "For this example, we examine eDNA data generated as part of sea lamprey monitoring research. \n",
    "\n",
    "First, we read in our data from Science Base. We print the `head()` of the data to peak at it and print the `shape` to see how many rows and columns we have. "
   ]
  },
  {
   "cell_type": "code",
   "execution_count": 1,
   "metadata": {},
   "outputs": [
    {
     "name": "stdout",
     "output_type": "stream",
     "text": [
      "    Sample Fluor     Copies Inhibited\n",
      "0  200L-2A   FAM  1336000.0        NO\n",
      "1  200L-2B   FAM  1099000.0        NO\n",
      "2  200L-2C   FAM  1229000.0        NO\n",
      "3  200L-3A   FAM  1827000.0        NO\n",
      "4  200L-3B   FAM  1758000.0        NO\n",
      "(352, 4)\n"
     ]
    }
   ],
   "source": [
    "import pandas as pd\n",
    "import io\n",
    "import requests\n",
    "import matplotlib.pyplot as plt\n",
    "url = \"https://www.sciencebase.gov/catalog/file/get/59b6cc06e4b08b1644ddf8b3?f=__disk__f7%2F19%2F08%2Ff719084d841c0419e3a7f9a747c156406e32a85b\"\n",
    "s = requests.get(url).content\n",
    "dat = pd.read_csv(io.StringIO(s.decode('utf-8')))\n",
    "print(dat.head())\n",
    "print(dat.shape)"
   ]
  },
  {
   "cell_type": "markdown",
   "metadata": {},
   "source": [
    "Then, we might filter our data and do other cleanup steps."
   ]
  },
  {
   "cell_type": "code",
   "execution_count": 2,
   "metadata": {},
   "outputs": [
    {
     "name": "stdout",
     "output_type": "stream",
     "text": [
      "    Sample Fluor     Copies Inhibited Stock_level Sample_ID date\n",
      "0  200L-2A   FAM  1336000.0        NO        200L        2A  NaN\n",
      "1  200L-2B   FAM  1099000.0        NO        200L        2B  NaN\n",
      "2  200L-2C   FAM  1229000.0        NO        200L        2C  NaN\n",
      "3  200L-3A   FAM  1827000.0        NO        200L        3A  NaN\n",
      "4  200L-3B   FAM  1758000.0        NO        200L        3B  NaN\n",
      "(144, 7)\n"
     ]
    }
   ],
   "source": [
    "dat[['Stock_level', 'Sample_ID', 'date']] = dat['Sample'].apply(lambda x: pd.Series(str(x).split('-')))\n",
    "FAM = dat[dat[\"Fluor\"] == \"FAM\"]\n",
    "copies_to_keep = [\"0L\", \"2L\", \"20L\", \"200L\"] \n",
    "FAM = FAM[FAM[\"Stock_level\"].isin(copies_to_keep)]\n",
    "FAM[\"Stock_level\"] = FAM[\"Stock_level\"].astype('category')\n",
    "FAM[\"Stock_level\"] = FAM[\"Stock_level\"].cat.reorder_categories(copies_to_keep, ordered=True)\n",
    "print(FAM.head())\n",
    "print(FAM.shape)"
   ]
  },
  {
   "cell_type": "markdown",
   "metadata": {},
   "source": [
    "Next, we might plot our data and run other analyses."
   ]
  },
  {
   "cell_type": "code",
   "execution_count": 3,
   "metadata": {},
   "outputs": [
    {
     "data": {
      "text/plain": [
       "<matplotlib.axes._subplots.AxesSubplot at 0x7f67fc6db588>"
      ]
     },
     "execution_count": 3,
     "metadata": {},
     "output_type": "execute_result"
    },
    {
     "data": {
      "image/png": "[encoded data removed]",
      "text/plain": [
       "<Figure size 432x288 with 1 Axes>"
      ]
     },
     "metadata": {
      "needs_background": "light"
     },
     "output_type": "display_data"
    }
   ],
   "source": [
    "FAM.boxplot(column = \"Copies\", by =\"Stock_level\")"
   ]
  },
  {
   "cell_type": "markdown",
   "metadata": {},
   "source": [
    "In the above example, see how stocking-level increases the amount of eDNA detected in water. \n",
    "\n",
    "**Note: My origial code and analysis were done in R and included both better figures and more analysis. Think of this notebook as a proof of concent.**"
   ]
  },
  {
   "cell_type": "code",
   "execution_count": null,
   "metadata": {},
   "outputs": [],
   "source": []
  },
  {
   "cell_type": "code",
   "execution_count": null,
   "metadata": {},
   "outputs": [],
   "source": []
  }
 ],
 "metadata": {
  "kernelspec": {
   "display_name": "Python 3",
   "language": "python",
   "name": "python3"
  },
  "language_info": {
   "codemirror_mode": {
    "name": "ipython",
    "version": 3
   },
   "file_extension": ".py",
   "mimetype": "text/x-python",
   "name": "python",
   "nbconvert_exporter": "python",
   "pygments_lexer": "ipython3",
   "version": "3.6.7"
  }
 },
 "nbformat": 4,
 "nbformat_minor": 2
}
