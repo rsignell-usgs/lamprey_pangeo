{
 "cells": [
  {
   "cell_type": "markdown",
   "metadata": {},
   "source": [
    "# Jupyter notebook example"
   ]
  },
  {
   "cell_type": "markdown",
   "metadata": {},
   "source": [
    "USGS Scientists often produce one-off analyses that become part of larger \"stories\". However, the data and code from these oneoff products often cannot be used for other projects unless the users is an expert in the subject field. Interactive products such as Jupyter notebooks could be used to highlight key findings and help others intereste in these products find them and learn how to use them. \n",
    "\n",
    "For this example, we examine eDNA data generated as part of sea lamprey monitoring research. \n",
    "\n",
    "First, we read in our data from Science Base. We print the `head()` of the data to peak at it and print the `shape` to see how many rows and columns we have. "
   ]
  },
  {
   "cell_type": "code",
   "execution_count": null,
   "metadata": {},
   "outputs": [],
   "source": [
    "import pandas as pd\n",
    "import numpy as np\n",
    "import io\n",
    "import requests\n",
    "import matplotlib.pyplot as plt\n",
    "import numpy as np\n",
    "import re\n",
    "\n",
    "url = \"https://www.sciencebase.gov/catalog/file/get/59b6cc06e4b08b1644ddf8b3?f=__disk__f7%2F19%2F08%2Ff719084d841c0419e3a7f9a747c156406e32a85b\"\n",
    "s = requests.get(url).content\n",
    "dat = pd.read_csv(io.StringIO(s.decode('utf-8')))\n",
    "print(dat.head())\n",
    "print(dat.shape)"
   ]
  },
  {
   "cell_type": "markdown",
   "metadata": {},
   "source": [
    "Then, we might filter our data and do other cleanup steps."
   ]
  },
  {
   "cell_type": "code",
   "execution_count": null,
   "metadata": {},
   "outputs": [],
   "source": [
    "dat[['Stock_level', 'Sample_ID', 'date']] = dat['Sample'].apply(lambda x: pd.Series(str(x).split('-')))\n",
    "FAM = dat[dat[\"Fluor\"] == \"FAM\"]\n",
    "copies_to_keep = [\"0L\", \"2L\", \"20L\", \"200L\"] \n",
    "FAM = FAM[FAM[\"Stock_level\"].isin(copies_to_keep)]\n",
    "FAM[\"Stock_level\"] = FAM[\"Stock_level\"].astype('category')\n",
    "FAM[\"Stock_level\"] = FAM[\"Stock_level\"].cat.reorder_categories(copies_to_keep, ordered=True)\n",
    "FAM[\"Copies_log10\"] = np.log10(FAM[\"Copies\"] + 1)\n",
    "FAM['Sample_replicate'] = FAM['Sample'].str.replace(\"(\\\\d+L)-(\\\\d)([A-Z])\", \"\\\\1\\\\2\", regex = True)\n",
    "print(FAM.head())\n",
    "print(FAM.shape)"
   ]
  },
  {
   "cell_type": "markdown",
   "metadata": {},
   "source": [
    "Next, we might plot our data and run other analyses.\n",
    "\n",
    "In this case, we first plot our data using a boxplot. "
   ]
  },
  {
   "cell_type": "code",
   "execution_count": null,
   "metadata": {},
   "outputs": [],
   "source": [
    "FAM.boxplot(column = \"Copies_log10\", by =\"Stock_level\")"
   ]
  },
  {
   "cell_type": "markdown",
   "metadata": {},
   "source": [
    "In the above example, see how stocking-level increases the amount of eDNA detected in water. \n",
    "\n",
    "Originally, a mixed-effect model was run on this code. However, I cannot figure out how to run this so I ran a linear model instead. \n",
    "This confirms plot shown above. "
   ]
  },
  {
   "cell_type": "code",
   "execution_count": null,
   "metadata": {},
   "outputs": [],
   "source": [
    "#md = smf.mixedlm(\"Copies_log10 ~ 1\", FAM, groups=FAM[\"Sample\"])\n",
    "#data = sm.datasets.get_rdataset('dietox', 'geepack').data\n",
    "#md = smf.mixedlm(\"Weight ~ Time\", data, groups=data[\"Pig\"])\n",
    "md = smf.ols(\"Copies_log10 ~ C(Stock_level)\", FAM)\n",
    "#md = sm.MixedLM.from_formula( \"Copies_log10 ~ Stock_level\", FAM, groups = FAM['Sample_replicate'], re_formula = \"Stock_level\")\n",
    "md = md.fit()\n",
    "print(md.summary())"
   ]
  },
  {
   "cell_type": "markdown",
   "metadata": {},
   "source": [
    "**Note: My origial code and analysis were done in R and included both better figures and more analysis. Think of this notebook as a proof of concent.**"
   ]
  },
  {
   "cell_type": "code",
   "execution_count": null,
   "metadata": {},
   "outputs": [],
   "source": []
  },
  {
   "cell_type": "code",
   "execution_count": null,
   "metadata": {},
   "outputs": [],
   "source": []
  }
 ],
 "metadata": {
  "kernelspec": {
   "display_name": "Python [conda env:notebook] *",
   "language": "python",
   "name": "conda-env-notebook-py"
  },
  "language_info": {
   "codemirror_mode": {
    "name": "ipython",
    "version": 3
   },
   "file_extension": ".py",
   "mimetype": "text/x-python",
   "name": "python",
   "nbconvert_exporter": "python",
   "pygments_lexer": "ipython3",
   "version": "3.6.7"
  }
 },
 "nbformat": 4,
 "nbformat_minor": 2
}
